{
 "cells": [
  {
   "cell_type": "code",
   "execution_count": 1,
   "id": "0aa099bd",
   "metadata": {},
   "outputs": [
    {
     "name": "stdout",
     "output_type": "stream",
     "text": [
      "h\n",
      "n\n"
     ]
    }
   ],
   "source": [
    "word = \"Python\"\n",
    "print(word[3])    # h\n",
    "print(word[5])    # n"
   ]
  },
  {
   "cell_type": "code",
   "execution_count": null,
   "id": "8cbe2f3d",
   "metadata": {},
   "outputs": [],
   "source": [
    "numbers = [10, 20, 30, 40, 50]\n",
    "print(numbers[2])    # 30\n",
    "print(numbers[0])    # 10"
   ]
  },
  {
   "cell_type": "code",
   "execution_count": null,
   "id": "93cda456",
   "metadata": {},
   "outputs": [],
   "source": [
    "text = \"Python\"\n",
    "print(text[0:3])     # Pyt\n",
    "print(text[2:])      # thon"
   ]
  },
  {
   "cell_type": "code",
   "execution_count": null,
   "id": "ac4f156c",
   "metadata": {},
   "outputs": [
    {
     "name": "stdout",
     "output_type": "stream",
     "text": [
      "[20, 30, 40]\n",
      "[50, 40, 30, 20, 10]\n"
     ]
    }
   ],
   "source": [
    "data = [10, 20, 30, 40, 50]\n",
    "print(data[1:4])     # [20, 30, 40]\n",
    "data.reverse()\n",
    "print(data)\n",
    "#print(data[::-1])    # [50, 40, 30, 20, 10]"
   ]
  }
 ],
 "metadata": {
  "kernelspec": {
   "display_name": "Python 3",
   "language": "python",
   "name": "python3"
  },
  "language_info": {
   "codemirror_mode": {
    "name": "ipython",
    "version": 3
   },
   "file_extension": ".py",
   "mimetype": "text/x-python",
   "name": "python",
   "nbconvert_exporter": "python",
   "pygments_lexer": "ipython3",
   "version": "3.13.6"
  }
 },
 "nbformat": 4,
 "nbformat_minor": 5
}
